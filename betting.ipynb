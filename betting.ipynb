{
 "metadata": {
  "language_info": {
   "codemirror_mode": {
    "name": "ipython",
    "version": 3
   },
   "file_extension": ".py",
   "mimetype": "text/x-python",
   "name": "python",
   "nbconvert_exporter": "python",
   "pygments_lexer": "ipython3",
   "version": "3.8.5"
  },
  "orig_nbformat": 2,
  "kernelspec": {
   "name": "python3",
   "display_name": "Python 3.8.5 64-bit",
   "metadata": {
    "interpreter": {
     "hash": "6de7c9e46f1712e38829c7fece51f35c893686d82add8f20267837bb44cf4084"
    }
   }
  }
 },
 "nbformat": 4,
 "nbformat_minor": 2,
 "cells": [
  {
   "cell_type": "code",
   "execution_count": 1,
   "metadata": {},
   "outputs": [],
   "source": [
    "from utils import *\n",
    "import numpy as np\n",
    "import pandas as pd\n",
    "from tqdm import tqdm\n",
    "import matplotlib.pyplot as plt\n",
    "from scipy.stats import poisson, chisquare\n",
    "import pickle"
   ]
  },
  {
   "cell_type": "code",
   "execution_count": 2,
   "metadata": {},
   "outputs": [],
   "source": [
    "base_url = \"https://www.football-data.co.uk/mmz4281/{}/E0.csv\"\n",
    "season = \"1415\"\n",
    "df = get_match_data(base_url.format(season)).sort_values(by=\"MatchWeek\")\n",
    "ws = get_winstreak(df)"
   ]
  },
  {
   "cell_type": "code",
   "execution_count": 3,
   "metadata": {},
   "outputs": [],
   "source": [
    "train = df[df[\"MatchWeek\"]<29]\n",
    "test = df[df[\"MatchWeek\"]>=29]"
   ]
  },
  {
   "cell_type": "code",
   "execution_count": 4,
   "metadata": {},
   "outputs": [
    {
     "output_type": "stream",
     "name": "stderr",
     "text": [
      "100%|██████████| 1000/1000 [00:04<00:00, 242.72it/s]\n"
     ]
    }
   ],
   "source": [
    "### Train params\n",
    "\n",
    "params = np.ones((4,20))\n",
    "\n",
    "num_itrs = 1000\n",
    "lr = 0.0001\n",
    "\n",
    "for i in tqdm(range(num_itrs)):\n",
    "    batch = train.sample(frac=1/20)\n",
    "\n",
    "    for index, row in batch.iterrows():\n",
    "\n",
    "        home_index = teams_ind[row[\"HomeTeam\"]]\n",
    "        away_index = teams_ind[row[\"AwayTeam\"]]\n",
    "        home_goal = row[\"FTHG\"]\n",
    "        away_goal = row[\"FTAG\"]\n",
    "\n",
    "        # update home team params\n",
    "        params[0,home_index] += lr * (home_goal / params[0,home_index] - params[3,away_index])\n",
    "        params[1,home_index] += lr * (away_goal / params[1,home_index] - params[2,away_index])\n",
    "\n",
    "        # update away team params\n",
    "        params[2,away_index] += lr * (away_goal / params[2,away_index] - params[1,home_index])\n",
    "        params[3,away_index] += lr * (home_goal / params[3,away_index] - params[0,home_index])"
   ]
  },
  {
   "cell_type": "code",
   "execution_count": 5,
   "metadata": {},
   "outputs": [
    {
     "output_type": "stream",
     "name": "stderr",
     "text": [
      "100%|██████████| 1000/1000 [00:05<00:00, 189.03it/s]\n"
     ]
    }
   ],
   "source": [
    "team_params = np.ones((4,20))\n",
    "streak_param = 1\n",
    "\n",
    "num_itrs = 1000\n",
    "lr = 0.0001\n",
    "\n",
    "for i in tqdm(range(num_itrs)):\n",
    "    batch = train.sample(frac=1/20)\n",
    "\n",
    "    for index, row in batch.iterrows():\n",
    "\n",
    "        home_index = teams_ind[row[\"HomeTeam\"]]\n",
    "        away_index = teams_ind[row[\"AwayTeam\"]]\n",
    "        home_goal = row[\"FTHG\"]\n",
    "        away_goal = row[\"FTAG\"]\n",
    "        week = row[\"MatchWeek\"]\n",
    "        home_streak = ws.loc[week,row[\"HomeTeam\"]]\n",
    "        away_streak = ws.loc[week,row[\"AwayTeam\"]]\n",
    "\n",
    "        # update home team params\n",
    "        team_params[0,home_index] += lr * (home_goal / team_params[0,home_index] - team_params[3,away_index] * (streak_param ** home_streak))\n",
    "        team_params[1,home_index] += lr * (away_goal / team_params[1,home_index] - team_params[2,away_index] * (streak_param ** away_streak))\n",
    "        if home_streak != 0:\n",
    "            streak_param += lr * (home_goal * home_streak / streak_param - home_streak * team_params[0,home_index] * team_params[3,away_index] * (streak_param ** (home_streak - 1)))\n",
    "\n",
    "        # update away team params\n",
    "        team_params[2,away_index] += lr * (away_goal / team_params[2,away_index] - team_params[1,home_index] * (streak_param ** away_streak))\n",
    "        team_params[3,away_index] += lr * (home_goal / team_params[3,away_index] - team_params[0,home_index] * (streak_param ** home_streak))\n",
    "        if away_streak != 0:\n",
    "            streak_param += lr * (away_goal * away_streak / streak_param - away_streak * team_params[2,away_index] * team_params[1,home_index] * (streak_param ** (away_streak - 1)))\n"
   ]
  },
  {
   "cell_type": "code",
   "execution_count": 6,
   "metadata": {},
   "outputs": [],
   "source": [
    "### Save trained params DON'T UNCOMMENT\n",
    "# saved_params = [params, team_params, streak_param]\n",
    "# with open('betting_params.pickle', 'wb') as f:\n",
    "#     # Pickle the 'data' dictionary using the highest protocol available.\n",
    "#     pickle.dump(saved_params, f, pickle.HIGHEST_PROTOCOL)"
   ]
  },
  {
   "cell_type": "code",
   "execution_count": 7,
   "metadata": {},
   "outputs": [],
   "source": [
    "with open('betting_params.pickle', 'rb') as f:\n",
    "    saved_params = pickle.load(f)\n",
    "\n",
    "params = saved_params[0]\n",
    "team_params = saved_params[1]\n",
    "streak_param = saved_params[2]"
   ]
  },
  {
   "cell_type": "code",
   "execution_count": 8,
   "metadata": {},
   "outputs": [
    {
     "output_type": "error",
     "ename": "IndentationError",
     "evalue": "expected an indented block (<ipython-input-8-536e5d7b3dae>, line 15)",
     "traceback": [
      "\u001b[0;36m  File \u001b[0;32m\"<ipython-input-8-536e5d7b3dae>\"\u001b[0;36m, line \u001b[0;32m15\u001b[0m\n\u001b[0;31m    if model_odds[\"H\"] + 0.1 < house_odds[\"H\"]:\u001b[0m\n\u001b[0m    ^\u001b[0m\n\u001b[0;31mIndentationError\u001b[0m\u001b[0;31m:\u001b[0m expected an indented block\n"
     ]
    }
   ],
   "source": [
    "current = 1000.\n",
    "history = [current]\n",
    "\n",
    "for i, row in tqdm(test.iterrows()):\n",
    "    home_index = teams_ind[row[\"HomeTeam\"]]\n",
    "    away_index = teams_ind[row[\"AwayTeam\"]]\n",
    "    result = row[\"FTR\"]\n",
    "    \n",
    "    house_odds = np.array([row[\"B365H\"], row[\"B365D\"], row[\"B365A\"]])\n",
    "    model_odds = get_odds(params, home_index, away_index)\n",
    "\n",
    "    if max(house_odds - model_odds) > 0.5 and model_odds[np.argmax(house_odds - model_odds)] < 5:\n",
    "        \n",
    "\n",
    "    if model_odds[\"H\"] + 0.1 < house_odds[\"H\"]:\n",
    "        if result == \"H\":\n",
    "            current += (house_odds - 1)\n",
    "        else:\n",
    "            current -= 1\n",
    "    # elif model_odds[\"D\"] + 0.1 < \n",
    "\n",
    "    "
   ]
  },
  {
   "cell_type": "code",
   "execution_count": 10,
   "metadata": {},
   "outputs": [
    {
     "output_type": "stream",
     "name": "stdout",
     "text": [
      "Date          18/05/15\nMatchWeek           37\nHomeTeam     West Brom\nAwayTeam       Chelsea\nFTHG                 3\nFTAG                 0\nFTR                  H\nB365H              4.1\nB365D              3.5\nB365A                2\nName: 368, dtype: object\n"
     ]
    },
    {
     "output_type": "execute_result",
     "data": {
      "text/plain": [
       "0.5865119391273399"
      ]
     },
     "metadata": {},
     "execution_count": 10
    }
   ],
   "source": [
    "match = df.iloc[360]\n",
    "print(match)\n",
    "home_index = teams_ind[match[\"HomeTeam\"]]\n",
    "away_index = teams_ind[match[\"AwayTeam\"]]\n",
    "\n",
    "house_odds = np.array([match[\"B365H\"], match[\"B365D\"],match[\"B365A\"]])\n",
    "model_odds = get_odds(params, home_index, away_index)\n",
    "\n",
    "max(house_odds - model_odds)"
   ]
  },
  {
   "cell_type": "code",
   "execution_count": 11,
   "metadata": {},
   "outputs": [
    {
     "output_type": "execute_result",
     "data": {
      "text/plain": [
       "array([1.28041946, 1.33526776, 1.29253028])"
      ]
     },
     "metadata": {},
     "execution_count": 11
    }
   ],
   "source": [
    "kelly_criterion(house_odds, model_odds)"
   ]
  },
  {
   "cell_type": "code",
   "execution_count": 12,
   "metadata": {},
   "outputs": [
    {
     "output_type": "execute_result",
     "data": {
      "text/plain": [
       "array([7.65112864, 6.17930144, 1.41348806])"
      ]
     },
     "metadata": {},
     "execution_count": 12
    }
   ],
   "source": [
    "model_odds"
   ]
  },
  {
   "cell_type": "code",
   "execution_count": 13,
   "metadata": {},
   "outputs": [
    {
     "output_type": "execute_result",
     "data": {
      "text/plain": [
       "array([0.13069967, 0.16183059, 0.70746972])"
      ]
     },
     "metadata": {},
     "execution_count": 13
    }
   ],
   "source": [
    "1/model_odds"
   ]
  },
  {
   "cell_type": "code",
   "execution_count": 14,
   "metadata": {},
   "outputs": [
    {
     "output_type": "execute_result",
     "data": {
      "text/plain": [
       "0.3999999999999999"
      ]
     },
     "metadata": {},
     "execution_count": 14
    }
   ],
   "source": [
    "((0.70*2) - 1)/(1)"
   ]
  },
  {
   "cell_type": "code",
   "execution_count": 15,
   "metadata": {},
   "outputs": [
    {
     "output_type": "execute_result",
     "data": {
      "text/plain": [
       "array([9.79665401, 8.25102202, 1.82697612])"
      ]
     },
     "metadata": {},
     "execution_count": 15
    }
   ],
   "source": [
    "model_odds - (1-model_odds)/(house_odds-1)"
   ]
  },
  {
   "cell_type": "code",
   "execution_count": null,
   "metadata": {},
   "outputs": [],
   "source": []
  }
 ]
}