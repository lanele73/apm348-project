{
 "cells": [
  {
   "cell_type": "code",
   "execution_count": 1,
   "metadata": {},
   "outputs": [],
   "source": [
    "import importlib\n",
    "from utils import *\n",
    "# importlib.reload(utils)\n",
    "import numpy as np\n",
    "import pandas as pd\n",
    "from tqdm import tqdm"
   ]
  },
  {
   "cell_type": "code",
   "execution_count": 2,
   "metadata": {},
   "outputs": [],
   "source": [
    "base_url = \"https://www.football-data.co.uk/mmz4281/{}/E0.csv\"\n",
    "season = \"1415\""
   ]
  },
  {
   "cell_type": "code",
   "execution_count": 3,
   "metadata": {},
   "outputs": [],
   "source": [
    "df = get_match_data(base_url.format(season))\n",
    "ws = get_winstreak(df)"
   ]
  },
  {
   "cell_type": "code",
   "execution_count": 4,
   "metadata": {
    "tags": []
   },
   "outputs": [
    {
     "output_type": "stream",
     "name": "stderr",
     "text": [
      "100%|██████████| 10000/10000 [00:23<00:00, 427.77it/s]\n"
     ]
    }
   ],
   "source": [
    "### Gradient descent / NO MOMENTUM\n",
    "\n",
    "### Parameter matrix rows: home off, home def, away off, away def\n",
    "params = np.ones((4,20))\n",
    "\n",
    "num_itrs = 10000\n",
    "lr = 0.0001\n",
    "\n",
    "teams_ind = {\n",
    "    \"Arsenal\": 0,\n",
    "    \"Aston Villa\": 1,\n",
    "    \"Burnley\": 2,\n",
    "    \"Chelsea\": 3,\n",
    "    \"Crystal Palace\": 4,\n",
    "    \"Everton\": 5,\n",
    "    \"Hull\": 6,\n",
    "    \"Leicester\": 7,\n",
    "    \"Liverpool\": 8,\n",
    "    \"Man City\": 9,\n",
    "    \"Man United\": 10,\n",
    "    \"Newcastle\": 11,\n",
    "    \"QPR\": 12,\n",
    "    \"Southampton\": 13,\n",
    "    \"Stoke\": 14,\n",
    "    \"Sunderland\": 15,\n",
    "    \"Swansea\": 16,\n",
    "    \"Tottenham\": 17,\n",
    "    \"West Brom\": 18,\n",
    "    \"West Ham\": 19\n",
    "    }\n",
    "\n",
    "for i in tqdm(range(num_itrs)):\n",
    "    batch = df.sample(frac=1/20)\n",
    "\n",
    "    for index, row in batch.iterrows():\n",
    "\n",
    "        home_index = teams_ind[row[\"HomeTeam\"]]\n",
    "        away_index = teams_ind[row[\"AwayTeam\"]]\n",
    "        home_goal = row[\"FTHG\"]\n",
    "        away_goal = row[\"FTAG\"]\n",
    "\n",
    "        # update home team params\n",
    "        params[0,home_index] += lr * (home_goal / params[0,home_index] - params[3,away_index])\n",
    "        params[1,home_index] += lr * (away_goal / params[1,home_index] - params[2,away_index])\n",
    "\n",
    "        # update away team params\n",
    "        params[2,away_index] += lr * (away_goal / params[2,away_index] - params[1,home_index])\n",
    "        params[3,away_index] += lr * (home_goal / params[3,away_index] - params[0,home_index])\n"
   ]
  },
  {
   "cell_type": "code",
   "execution_count": 5,
   "metadata": {
    "tags": []
   },
   "outputs": [],
   "source": [
    "# np.concatenate((np.array(teams_ind.keys()),np.zeros((20,7))))\n",
    "columns = [\"Team\", \"Points\", \"W\", \"D\", \"L\", \"GD\", \"GF\", \"GA\"]\n",
    "table = pd.DataFrame(data=np.zeros((20,8)), columns=columns)\n",
    "table[\"Team\"] = list(teams_dict.values())\n",
    "for i, row in df.iterrows():\n",
    "    home = row[\"HomeTeam\"]\n",
    "    away = row[\"AwayTeam\"]\n",
    "    result = (row[\"FTHG\"],row[\"FTAG\"])\n",
    "    win = winner(result)\n",
    "    # update results\n",
    "    if win == \"H\":\n",
    "        table.loc[table[\"Team\"] == home, \"Points\"] += 3.\n",
    "        table.loc[table[\"Team\"] == home, \"W\"] += 1.\n",
    "        table.loc[table[\"Team\"] == away, \"L\"] += 1.\n",
    "    elif win == \"A\":\n",
    "        table.loc[table[\"Team\"] == away, \"Points\"] += 3.\n",
    "        table.loc[table[\"Team\"] == away, \"W\"] += 1.\n",
    "        table.loc[table[\"Team\"] == home, \"L\"] += 1.\n",
    "    else:\n",
    "        table.loc[table[\"Team\"] == home, \"Points\"] += 1.\n",
    "        table.loc[table[\"Team\"] == away, \"Points\"] += 1.\n",
    "        table.loc[table[\"Team\"] == home, \"D\"] += 1.\n",
    "        table.loc[table[\"Team\"] == away, \"D\"] += 1.\n",
    "    \n",
    "    # update goals\n",
    "    table.loc[table[\"Team\"] == home, \"GF\"] += result[0]\n",
    "    table.loc[table[\"Team\"] == home, \"GA\"] += result[1]\n",
    "    table.loc[table[\"Team\"] == home, \"GD\"] += (result[0] - result[1])\n",
    "\n",
    "    table.loc[table[\"Team\"] == away, \"GF\"] += result[1]\n",
    "    table.loc[table[\"Team\"] == away, \"GA\"] += result[0]\n",
    "    table.loc[table[\"Team\"] == away, \"GD\"] += (result[1] - result[0])"
   ]
  },
  {
   "cell_type": "code",
   "execution_count": 6,
   "metadata": {},
   "outputs": [
    {
     "output_type": "execute_result",
     "data": {
      "text/plain": [
       "              Team  Points     W     D     L    GD    GF    GA\n",
       "1          Chelsea    87.0  26.0   9.0   3.0  41.0  73.0  32.0\n",
       "2         Man City    79.0  24.0   7.0   7.0  45.0  83.0  38.0\n",
       "3          Arsenal    75.0  22.0   9.0   7.0  35.0  71.0  36.0\n",
       "4       Man United    70.0  20.0  10.0   8.0  25.0  62.0  37.0\n",
       "5        Tottenham    64.0  19.0   7.0  12.0   5.0  58.0  53.0\n",
       "6        Liverpool    62.0  18.0   8.0  12.0   4.0  52.0  48.0\n",
       "7      Southampton    60.0  18.0   6.0  14.0  21.0  54.0  33.0\n",
       "8          Swansea    56.0  16.0   8.0  14.0  -3.0  46.0  49.0\n",
       "9            Stoke    54.0  15.0   9.0  14.0   3.0  48.0  45.0\n",
       "10  Crystal Palace    48.0  13.0   9.0  16.0  -4.0  47.0  51.0\n",
       "11         Everton    47.0  12.0  11.0  15.0  -2.0  48.0  50.0\n",
       "12        West Ham    47.0  12.0  11.0  15.0  -3.0  44.0  47.0\n",
       "13       West Brom    44.0  11.0  11.0  16.0 -13.0  38.0  51.0\n",
       "14       Leicester    41.0  11.0   8.0  19.0  -9.0  46.0  55.0\n",
       "15       Newcastle    39.0  10.0   9.0  19.0 -23.0  40.0  63.0\n",
       "16     Aston Villa    38.0  10.0   8.0  20.0 -26.0  31.0  57.0\n",
       "17      Sunderland    38.0   7.0  17.0  14.0 -22.0  31.0  53.0\n",
       "18            Hull    35.0   8.0  11.0  19.0 -18.0  33.0  51.0\n",
       "19         Burnley    33.0   7.0  12.0  19.0 -25.0  28.0  53.0\n",
       "20             QPR    30.0   8.0   6.0  24.0 -31.0  42.0  73.0"
      ],
      "text/html": "<div>\n<style scoped>\n    .dataframe tbody tr th:only-of-type {\n        vertical-align: middle;\n    }\n\n    .dataframe tbody tr th {\n        vertical-align: top;\n    }\n\n    .dataframe thead th {\n        text-align: right;\n    }\n</style>\n<table border=\"1\" class=\"dataframe\">\n  <thead>\n    <tr style=\"text-align: right;\">\n      <th></th>\n      <th>Team</th>\n      <th>Points</th>\n      <th>W</th>\n      <th>D</th>\n      <th>L</th>\n      <th>GD</th>\n      <th>GF</th>\n      <th>GA</th>\n    </tr>\n  </thead>\n  <tbody>\n    <tr>\n      <th>1</th>\n      <td>Chelsea</td>\n      <td>87.0</td>\n      <td>26.0</td>\n      <td>9.0</td>\n      <td>3.0</td>\n      <td>41.0</td>\n      <td>73.0</td>\n      <td>32.0</td>\n    </tr>\n    <tr>\n      <th>2</th>\n      <td>Man City</td>\n      <td>79.0</td>\n      <td>24.0</td>\n      <td>7.0</td>\n      <td>7.0</td>\n      <td>45.0</td>\n      <td>83.0</td>\n      <td>38.0</td>\n    </tr>\n    <tr>\n      <th>3</th>\n      <td>Arsenal</td>\n      <td>75.0</td>\n      <td>22.0</td>\n      <td>9.0</td>\n      <td>7.0</td>\n      <td>35.0</td>\n      <td>71.0</td>\n      <td>36.0</td>\n    </tr>\n    <tr>\n      <th>4</th>\n      <td>Man United</td>\n      <td>70.0</td>\n      <td>20.0</td>\n      <td>10.0</td>\n      <td>8.0</td>\n      <td>25.0</td>\n      <td>62.0</td>\n      <td>37.0</td>\n    </tr>\n    <tr>\n      <th>5</th>\n      <td>Tottenham</td>\n      <td>64.0</td>\n      <td>19.0</td>\n      <td>7.0</td>\n      <td>12.0</td>\n      <td>5.0</td>\n      <td>58.0</td>\n      <td>53.0</td>\n    </tr>\n    <tr>\n      <th>6</th>\n      <td>Liverpool</td>\n      <td>62.0</td>\n      <td>18.0</td>\n      <td>8.0</td>\n      <td>12.0</td>\n      <td>4.0</td>\n      <td>52.0</td>\n      <td>48.0</td>\n    </tr>\n    <tr>\n      <th>7</th>\n      <td>Southampton</td>\n      <td>60.0</td>\n      <td>18.0</td>\n      <td>6.0</td>\n      <td>14.0</td>\n      <td>21.0</td>\n      <td>54.0</td>\n      <td>33.0</td>\n    </tr>\n    <tr>\n      <th>8</th>\n      <td>Swansea</td>\n      <td>56.0</td>\n      <td>16.0</td>\n      <td>8.0</td>\n      <td>14.0</td>\n      <td>-3.0</td>\n      <td>46.0</td>\n      <td>49.0</td>\n    </tr>\n    <tr>\n      <th>9</th>\n      <td>Stoke</td>\n      <td>54.0</td>\n      <td>15.0</td>\n      <td>9.0</td>\n      <td>14.0</td>\n      <td>3.0</td>\n      <td>48.0</td>\n      <td>45.0</td>\n    </tr>\n    <tr>\n      <th>10</th>\n      <td>Crystal Palace</td>\n      <td>48.0</td>\n      <td>13.0</td>\n      <td>9.0</td>\n      <td>16.0</td>\n      <td>-4.0</td>\n      <td>47.0</td>\n      <td>51.0</td>\n    </tr>\n    <tr>\n      <th>11</th>\n      <td>Everton</td>\n      <td>47.0</td>\n      <td>12.0</td>\n      <td>11.0</td>\n      <td>15.0</td>\n      <td>-2.0</td>\n      <td>48.0</td>\n      <td>50.0</td>\n    </tr>\n    <tr>\n      <th>12</th>\n      <td>West Ham</td>\n      <td>47.0</td>\n      <td>12.0</td>\n      <td>11.0</td>\n      <td>15.0</td>\n      <td>-3.0</td>\n      <td>44.0</td>\n      <td>47.0</td>\n    </tr>\n    <tr>\n      <th>13</th>\n      <td>West Brom</td>\n      <td>44.0</td>\n      <td>11.0</td>\n      <td>11.0</td>\n      <td>16.0</td>\n      <td>-13.0</td>\n      <td>38.0</td>\n      <td>51.0</td>\n    </tr>\n    <tr>\n      <th>14</th>\n      <td>Leicester</td>\n      <td>41.0</td>\n      <td>11.0</td>\n      <td>8.0</td>\n      <td>19.0</td>\n      <td>-9.0</td>\n      <td>46.0</td>\n      <td>55.0</td>\n    </tr>\n    <tr>\n      <th>15</th>\n      <td>Newcastle</td>\n      <td>39.0</td>\n      <td>10.0</td>\n      <td>9.0</td>\n      <td>19.0</td>\n      <td>-23.0</td>\n      <td>40.0</td>\n      <td>63.0</td>\n    </tr>\n    <tr>\n      <th>16</th>\n      <td>Aston Villa</td>\n      <td>38.0</td>\n      <td>10.0</td>\n      <td>8.0</td>\n      <td>20.0</td>\n      <td>-26.0</td>\n      <td>31.0</td>\n      <td>57.0</td>\n    </tr>\n    <tr>\n      <th>17</th>\n      <td>Sunderland</td>\n      <td>38.0</td>\n      <td>7.0</td>\n      <td>17.0</td>\n      <td>14.0</td>\n      <td>-22.0</td>\n      <td>31.0</td>\n      <td>53.0</td>\n    </tr>\n    <tr>\n      <th>18</th>\n      <td>Hull</td>\n      <td>35.0</td>\n      <td>8.0</td>\n      <td>11.0</td>\n      <td>19.0</td>\n      <td>-18.0</td>\n      <td>33.0</td>\n      <td>51.0</td>\n    </tr>\n    <tr>\n      <th>19</th>\n      <td>Burnley</td>\n      <td>33.0</td>\n      <td>7.0</td>\n      <td>12.0</td>\n      <td>19.0</td>\n      <td>-25.0</td>\n      <td>28.0</td>\n      <td>53.0</td>\n    </tr>\n    <tr>\n      <th>20</th>\n      <td>QPR</td>\n      <td>30.0</td>\n      <td>8.0</td>\n      <td>6.0</td>\n      <td>24.0</td>\n      <td>-31.0</td>\n      <td>42.0</td>\n      <td>73.0</td>\n    </tr>\n  </tbody>\n</table>\n</div>"
     },
     "metadata": {},
     "execution_count": 6
    }
   ],
   "source": [
    "standings(df)"
   ]
  },
  {
   "cell_type": "code",
   "execution_count": null,
   "metadata": {},
   "outputs": [],
   "source": []
  }
 ],
 "metadata": {
  "kernelspec": {
   "display_name": "Python 3",
   "language": "python",
   "name": "python3"
  },
  "language_info": {
   "codemirror_mode": {
    "name": "ipython",
    "version": 3
   },
   "file_extension": ".py",
   "mimetype": "text/x-python",
   "name": "python",
   "nbconvert_exporter": "python",
   "pygments_lexer": "ipython3",
   "version": "3.8.5-final"
  }
 },
 "nbformat": 4,
 "nbformat_minor": 2
}