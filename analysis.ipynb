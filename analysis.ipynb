{
 "cells": [
  {
   "cell_type": "code",
   "execution_count": 1,
   "metadata": {},
   "outputs": [],
   "source": [
    "import importlib\n",
    "from utils import *\n",
    "# importlib.reload(utils)\n",
    "import numpy as np\n",
    "import pandas as pd\n",
    "from tqdm import tqdm"
   ]
  },
  {
   "cell_type": "code",
   "execution_count": 2,
   "metadata": {},
   "outputs": [],
   "source": [
    "base_url = \"https://www.football-data.co.uk/mmz4281/{}/E0.csv\"\n",
    "season = \"1415\""
   ]
  },
  {
   "cell_type": "code",
   "execution_count": 3,
   "metadata": {},
   "outputs": [],
   "source": [
    "df = get_match_data(base_url.format(season))\n",
    "ws = get_winstreak(df)"
   ]
  },
  {
   "cell_type": "code",
   "execution_count": 4,
   "metadata": {
    "tags": []
   },
   "outputs": [
    {
     "output_type": "stream",
     "name": "stderr",
     "text": [
      "100%|██████████| 10000/10000 [00:26<00:00, 373.17it/s]\n"
     ]
    }
   ],
   "source": [
    "### Gradient descent / NO MOMENTUM\n",
    "\n",
    "### Parameter matrix rows: home off, home def, away off, away def\n",
    "params = np.ones((4,20))\n",
    "\n",
    "num_itrs = 10000\n",
    "lr = 0.0001\n",
    "\n",
    "teams_ind = {\n",
    "    \"Arsenal\": 0,\n",
    "    \"Aston Villa\": 1,\n",
    "    \"Burnley\": 2,\n",
    "    \"Chelsea\": 3,\n",
    "    \"Crystal Palace\": 4,\n",
    "    \"Everton\": 5,\n",
    "    \"Hull\": 6,\n",
    "    \"Leicester\": 7,\n",
    "    \"Liverpool\": 8,\n",
    "    \"Man City\": 9,\n",
    "    \"Man United\": 10,\n",
    "    \"Newcastle\": 11,\n",
    "    \"QPR\": 12,\n",
    "    \"Southampton\": 13,\n",
    "    \"Stoke\": 14,\n",
    "    \"Sunderland\": 15,\n",
    "    \"Swansea\": 16,\n",
    "    \"Tottenham\": 17,\n",
    "    \"West Brom\": 18,\n",
    "    \"West Ham\": 19\n",
    "    }\n",
    "\n",
    "for i in tqdm(range(num_itrs)):\n",
    "    batch = df.sample(frac=1/20)\n",
    "\n",
    "    for index, row in batch.iterrows():\n",
    "\n",
    "        home_index = teams_ind[row[\"HomeTeam\"]]\n",
    "        away_index = teams_ind[row[\"AwayTeam\"]]\n",
    "        home_goal = row[\"FTHG\"]\n",
    "        away_goal = row[\"FTAG\"]\n",
    "\n",
    "        # update home team params\n",
    "        params[0,home_index] += lr * (home_goal / params[0,home_index] - params[3,away_index])\n",
    "        params[1,home_index] += lr * (away_goal / params[1,home_index] - params[2,away_index])\n",
    "\n",
    "        # update away team params\n",
    "        params[2,away_index] += lr * (away_goal / params[2,away_index] - params[1,home_index])\n",
    "        params[3,away_index] += lr * (home_goal / params[3,away_index] - params[0,home_index])\n"
   ]
  },
  {
   "cell_type": "code",
   "execution_count": 5,
   "metadata": {},
   "outputs": [
    {
     "output_type": "execute_result",
     "data": {
      "text/plain": [
       "              Team  Points   W   D   L  GD  GF  GA\n",
       "1          Chelsea      87  26   9   3  41  73  32\n",
       "2         Man City      79  24   7   7  45  83  38\n",
       "3          Arsenal      75  22   9   7  35  71  36\n",
       "4       Man United      70  20  10   8  25  62  37\n",
       "5        Tottenham      64  19   7  12   5  58  53\n",
       "6        Liverpool      62  18   8  12   4  52  48\n",
       "7      Southampton      60  18   6  14  21  54  33\n",
       "8          Swansea      56  16   8  14  -3  46  49\n",
       "9            Stoke      54  15   9  14   3  48  45\n",
       "10  Crystal Palace      48  13   9  16  -4  47  51\n",
       "11         Everton      47  12  11  15  -2  48  50\n",
       "12        West Ham      47  12  11  15  -3  44  47\n",
       "13       West Brom      44  11  11  16 -13  38  51\n",
       "14       Leicester      41  11   8  19  -9  46  55\n",
       "15       Newcastle      39  10   9  19 -23  40  63\n",
       "16     Aston Villa      38  10   8  20 -26  31  57\n",
       "17      Sunderland      38   7  17  14 -22  31  53\n",
       "18            Hull      35   8  11  19 -18  33  51\n",
       "19         Burnley      33   7  12  19 -25  28  53\n",
       "20             QPR      30   8   6  24 -31  42  73"
      ],
      "text/html": "<div>\n<style scoped>\n    .dataframe tbody tr th:only-of-type {\n        vertical-align: middle;\n    }\n\n    .dataframe tbody tr th {\n        vertical-align: top;\n    }\n\n    .dataframe thead th {\n        text-align: right;\n    }\n</style>\n<table border=\"1\" class=\"dataframe\">\n  <thead>\n    <tr style=\"text-align: right;\">\n      <th></th>\n      <th>Team</th>\n      <th>Points</th>\n      <th>W</th>\n      <th>D</th>\n      <th>L</th>\n      <th>GD</th>\n      <th>GF</th>\n      <th>GA</th>\n    </tr>\n  </thead>\n  <tbody>\n    <tr>\n      <th>1</th>\n      <td>Chelsea</td>\n      <td>87</td>\n      <td>26</td>\n      <td>9</td>\n      <td>3</td>\n      <td>41</td>\n      <td>73</td>\n      <td>32</td>\n    </tr>\n    <tr>\n      <th>2</th>\n      <td>Man City</td>\n      <td>79</td>\n      <td>24</td>\n      <td>7</td>\n      <td>7</td>\n      <td>45</td>\n      <td>83</td>\n      <td>38</td>\n    </tr>\n    <tr>\n      <th>3</th>\n      <td>Arsenal</td>\n      <td>75</td>\n      <td>22</td>\n      <td>9</td>\n      <td>7</td>\n      <td>35</td>\n      <td>71</td>\n      <td>36</td>\n    </tr>\n    <tr>\n      <th>4</th>\n      <td>Man United</td>\n      <td>70</td>\n      <td>20</td>\n      <td>10</td>\n      <td>8</td>\n      <td>25</td>\n      <td>62</td>\n      <td>37</td>\n    </tr>\n    <tr>\n      <th>5</th>\n      <td>Tottenham</td>\n      <td>64</td>\n      <td>19</td>\n      <td>7</td>\n      <td>12</td>\n      <td>5</td>\n      <td>58</td>\n      <td>53</td>\n    </tr>\n    <tr>\n      <th>6</th>\n      <td>Liverpool</td>\n      <td>62</td>\n      <td>18</td>\n      <td>8</td>\n      <td>12</td>\n      <td>4</td>\n      <td>52</td>\n      <td>48</td>\n    </tr>\n    <tr>\n      <th>7</th>\n      <td>Southampton</td>\n      <td>60</td>\n      <td>18</td>\n      <td>6</td>\n      <td>14</td>\n      <td>21</td>\n      <td>54</td>\n      <td>33</td>\n    </tr>\n    <tr>\n      <th>8</th>\n      <td>Swansea</td>\n      <td>56</td>\n      <td>16</td>\n      <td>8</td>\n      <td>14</td>\n      <td>-3</td>\n      <td>46</td>\n      <td>49</td>\n    </tr>\n    <tr>\n      <th>9</th>\n      <td>Stoke</td>\n      <td>54</td>\n      <td>15</td>\n      <td>9</td>\n      <td>14</td>\n      <td>3</td>\n      <td>48</td>\n      <td>45</td>\n    </tr>\n    <tr>\n      <th>10</th>\n      <td>Crystal Palace</td>\n      <td>48</td>\n      <td>13</td>\n      <td>9</td>\n      <td>16</td>\n      <td>-4</td>\n      <td>47</td>\n      <td>51</td>\n    </tr>\n    <tr>\n      <th>11</th>\n      <td>Everton</td>\n      <td>47</td>\n      <td>12</td>\n      <td>11</td>\n      <td>15</td>\n      <td>-2</td>\n      <td>48</td>\n      <td>50</td>\n    </tr>\n    <tr>\n      <th>12</th>\n      <td>West Ham</td>\n      <td>47</td>\n      <td>12</td>\n      <td>11</td>\n      <td>15</td>\n      <td>-3</td>\n      <td>44</td>\n      <td>47</td>\n    </tr>\n    <tr>\n      <th>13</th>\n      <td>West Brom</td>\n      <td>44</td>\n      <td>11</td>\n      <td>11</td>\n      <td>16</td>\n      <td>-13</td>\n      <td>38</td>\n      <td>51</td>\n    </tr>\n    <tr>\n      <th>14</th>\n      <td>Leicester</td>\n      <td>41</td>\n      <td>11</td>\n      <td>8</td>\n      <td>19</td>\n      <td>-9</td>\n      <td>46</td>\n      <td>55</td>\n    </tr>\n    <tr>\n      <th>15</th>\n      <td>Newcastle</td>\n      <td>39</td>\n      <td>10</td>\n      <td>9</td>\n      <td>19</td>\n      <td>-23</td>\n      <td>40</td>\n      <td>63</td>\n    </tr>\n    <tr>\n      <th>16</th>\n      <td>Aston Villa</td>\n      <td>38</td>\n      <td>10</td>\n      <td>8</td>\n      <td>20</td>\n      <td>-26</td>\n      <td>31</td>\n      <td>57</td>\n    </tr>\n    <tr>\n      <th>17</th>\n      <td>Sunderland</td>\n      <td>38</td>\n      <td>7</td>\n      <td>17</td>\n      <td>14</td>\n      <td>-22</td>\n      <td>31</td>\n      <td>53</td>\n    </tr>\n    <tr>\n      <th>18</th>\n      <td>Hull</td>\n      <td>35</td>\n      <td>8</td>\n      <td>11</td>\n      <td>19</td>\n      <td>-18</td>\n      <td>33</td>\n      <td>51</td>\n    </tr>\n    <tr>\n      <th>19</th>\n      <td>Burnley</td>\n      <td>33</td>\n      <td>7</td>\n      <td>12</td>\n      <td>19</td>\n      <td>-25</td>\n      <td>28</td>\n      <td>53</td>\n    </tr>\n    <tr>\n      <th>20</th>\n      <td>QPR</td>\n      <td>30</td>\n      <td>8</td>\n      <td>6</td>\n      <td>24</td>\n      <td>-31</td>\n      <td>42</td>\n      <td>73</td>\n    </tr>\n  </tbody>\n</table>\n</div>"
     },
     "metadata": {},
     "execution_count": 5
    }
   ],
   "source": [
    "standings(df)"
   ]
  },
  {
   "cell_type": "code",
   "execution_count": null,
   "metadata": {},
   "outputs": [],
   "source": []
  }
 ],
 "metadata": {
  "kernelspec": {
   "display_name": "Python 3",
   "language": "python",
   "name": "python3"
  },
  "language_info": {
   "codemirror_mode": {
    "name": "ipython",
    "version": 3
   },
   "file_extension": ".py",
   "mimetype": "text/x-python",
   "name": "python",
   "nbconvert_exporter": "python",
   "pygments_lexer": "ipython3",
   "version": "3.8.5-final"
  }
 },
 "nbformat": 4,
 "nbformat_minor": 2
}