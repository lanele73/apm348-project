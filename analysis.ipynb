{
 "cells": [
  {
   "cell_type": "code",
   "execution_count": 50,
   "metadata": {},
   "outputs": [],
   "source": [
    "from utils import *\n",
    "import numpy as np\n",
    "import pandas as pd\n",
    "from tqdm import tqdm"
   ]
  },
  {
   "cell_type": "code",
   "execution_count": 51,
   "metadata": {},
   "outputs": [],
   "source": [
    "base_url = \"https://www.football-data.co.uk/mmz4281/{}/E0.csv\"\n",
    "season = \"1415\""
   ]
  },
  {
   "cell_type": "code",
   "execution_count": 52,
   "metadata": {},
   "outputs": [],
   "source": [
    "df = get_match_data(base_url.format(season))\n",
    "ws = get_winstreak(df)"
   ]
  },
  {
   "cell_type": "code",
   "execution_count": 53,
   "metadata": {
    "tags": []
   },
   "outputs": [
    {
     "output_type": "stream",
     "name": "stderr",
     "text": [
      "100%|██████████| 10000/10000 [00:19<00:00, 512.57it/s]\n"
     ]
    }
   ],
   "source": [
    "### Gradient descent / NO MOMENTUM\n",
    "\n",
    "### Parameter matrix rows: home off, home def, away off, away def\n",
    "params = np.ones((4,20))\n",
    "\n",
    "num_itrs = 10000\n",
    "lr = 0.0001\n",
    "\n",
    "teams_ind = {\n",
    "    \"Arsenal\": 0,\n",
    "    \"Aston Villa\": 1,\n",
    "    \"Burnley\": 2,\n",
    "    \"Chelsea\": 3,\n",
    "    \"Crystal Palace\": 4,\n",
    "    \"Everton\": 5,\n",
    "    \"Hull\": 6,\n",
    "    \"Leicester\": 7,\n",
    "    \"Liverpool\": 8,\n",
    "    \"Man City\": 9,\n",
    "    \"Man United\": 10,\n",
    "    \"Newcastle\": 11,\n",
    "    \"QPR\": 12,\n",
    "    \"Southampton\": 13,\n",
    "    \"Stoke\": 14,\n",
    "    \"Sunderland\": 15,\n",
    "    \"Swansea\": 16,\n",
    "    \"Tottenham\": 17,\n",
    "    \"West Brom\": 18,\n",
    "    \"West Ham\": 19\n",
    "    }\n",
    "\n",
    "for i in tqdm(range(num_itrs)):\n",
    "    batch = df.sample(frac=1/20)\n",
    "\n",
    "    for index, row in batch.iterrows():\n",
    "\n",
    "        home_index = teams_ind[row[\"HomeTeam\"]]\n",
    "        away_index = teams_ind[row[\"AwayTeam\"]]\n",
    "        home_goal = row[\"FTHG\"]\n",
    "        away_goal = row[\"FTAG\"]\n",
    "\n",
    "        # update home team params\n",
    "        params[0,home_index] += lr * (home_goal / params[0,home_index] - params[3,away_index])\n",
    "        params[1,home_index] += lr * (away_goal / params[1,home_index] - params[2,away_index])\n",
    "\n",
    "        # update away team params\n",
    "        params[2,away_index] += lr * (away_goal / params[2,away_index] - params[1,home_index])\n",
    "        params[3,away_index] += lr * (home_goal / params[3,away_index] - params[0,home_index])\n",
    "\n",
    "\n",
    "\n",
    "\n"
   ]
  },
  {
   "cell_type": "code",
   "execution_count": null,
   "metadata": {},
   "outputs": [],
   "source": []
  }
 ],
 "metadata": {
  "kernelspec": {
   "display_name": "Python 3",
   "language": "python",
   "name": "python3"
  },
  "language_info": {
   "codemirror_mode": {
    "name": "ipython",
    "version": 3
   },
   "file_extension": ".py",
   "mimetype": "text/x-python",
   "name": "python",
   "nbconvert_exporter": "python",
   "pygments_lexer": "ipython3",
   "version": "3.8.5-final"
  }
 },
 "nbformat": 4,
 "nbformat_minor": 2
}